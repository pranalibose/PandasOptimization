{
 "cells": [
  {
   "cell_type": "markdown",
   "id": "8fd6ff88",
   "metadata": {},
   "source": [
    "## Pandas Optimization - Best Practice\n",
    "\n",
    "- Downcast datatypes\n",
    "- Faster Lookups\n",
    "- Avoid creating copy\n",
    "- Filter before merge/join/concat"
   ]
  },
  {
   "cell_type": "code",
   "execution_count": 2,
   "id": "41bd6043",
   "metadata": {},
   "outputs": [],
   "source": [
    "import warnings\n",
    "warnings.filterwarnings('ignore')"
   ]
  },
  {
   "cell_type": "code",
   "execution_count": 3,
   "id": "58e7c0b6",
   "metadata": {},
   "outputs": [],
   "source": [
    "import time\n",
    "import pandas as pd\n",
    "import numpy as np"
   ]
  },
  {
   "cell_type": "markdown",
   "id": "29338949",
   "metadata": {},
   "source": [
    "### Downcasting\n",
    "\n",
    "Downcasting involves converting columns to more memory-efficient data types. For instance, you can convert float64 to float32 or int64 to int32 when the values fit within the smaller data types, saving memory without losing information."
   ]
  },
  {
   "cell_type": "code",
   "execution_count": 4,
   "id": "1d4cd583",
   "metadata": {},
   "outputs": [
    {
     "name": "stdout",
     "output_type": "stream",
     "text": [
      "<class 'pandas.core.frame.DataFrame'>\n",
      "RangeIndex: 1000000 entries, 0 to 999999\n",
      "Data columns (total 2 columns):\n",
      " #   Column  Non-Null Count    Dtype  \n",
      "---  ------  --------------    -----  \n",
      " 0   A       1000000 non-null  int64  \n",
      " 1   B       1000000 non-null  float64\n",
      "dtypes: float64(1), int64(1)\n",
      "memory usage: 15.3 MB\n",
      "\n",
      "<class 'pandas.core.frame.DataFrame'>\n",
      "RangeIndex: 1000000 entries, 0 to 999999\n",
      "Data columns (total 2 columns):\n",
      " #   Column  Non-Null Count    Dtype  \n",
      "---  ------  --------------    -----  \n",
      " 0   A       1000000 non-null  int8   \n",
      " 1   B       1000000 non-null  float32\n",
      "dtypes: float32(1), int8(1)\n",
      "memory usage: 4.8 MB\n"
     ]
    }
   ],
   "source": [
    "# Create a DataFrame with large data types\n",
    "df = pd.DataFrame({\n",
    "    'A': np.random.randint(0, 100, size=1000000),  # int64\n",
    "    'B': np.random.rand(1000000)                    # float64\n",
    "})\n",
    "\n",
    "# Check memory usage before downcasting\n",
    "df.info()\n",
    "print()\n",
    "# Downcast the integer and float columns\n",
    "df['A'] = pd.to_numeric(df['A'], downcast='integer')  # Downcast to int8\n",
    "df['B'] = pd.to_numeric(df['B'], downcast='float')    # Downcast to float32\n",
    "\n",
    "# Check memory usage after downcasting\n",
    "df.info()"
   ]
  },
  {
   "cell_type": "code",
   "execution_count": 5,
   "id": "3ef6fc87",
   "metadata": {},
   "outputs": [
    {
     "name": "stdout",
     "output_type": "stream",
     "text": [
      "<class 'pandas.core.frame.DataFrame'>\n",
      "RangeIndex: 4000 entries, 0 to 3999\n",
      "Data columns (total 1 columns):\n",
      " #   Column  Non-Null Count  Dtype \n",
      "---  ------  --------------  ----- \n",
      " 0   city    4000 non-null   object\n",
      "dtypes: object(1)\n",
      "memory usage: 31.4+ KB\n",
      "\n",
      "32128\n",
      "4260\n",
      "\n",
      "<class 'pandas.core.frame.DataFrame'>\n",
      "RangeIndex: 4000 entries, 0 to 3999\n",
      "Data columns (total 1 columns):\n",
      " #   Column  Non-Null Count  Dtype   \n",
      "---  ------  --------------  -----   \n",
      " 0   city    4000 non-null   category\n",
      "dtypes: category(1)\n",
      "memory usage: 4.2 KB\n"
     ]
    }
   ],
   "source": [
    "df = pd.DataFrame({\n",
    "    'city': ['New York', 'Los Angeles', 'New York', 'Chicago'] * 1000\n",
    "})\n",
    "\n",
    "df.info()\n",
    "print()\n",
    "# Before optimization\n",
    "print(df['city'].memory_usage())\n",
    "\n",
    "# Convert to categorical\n",
    "df['city'] = df['city'].astype('category')\n",
    "print(df['city'].memory_usage())\n",
    "print()\n",
    "df.info()"
   ]
  },
  {
   "cell_type": "markdown",
   "id": "cf63f871",
   "metadata": {},
   "source": []
  },
  {
   "cell_type": "markdown",
   "id": "71dfc3a0",
   "metadata": {},
   "source": [
    "### Faster Lookups\n",
    "\n",
    ".iloc and .loc can be used for efficient and faster lookups"
   ]
  },
  {
   "cell_type": "code",
   "execution_count": 6,
   "id": "0ff7d967",
   "metadata": {},
   "outputs": [
    {
     "name": "stdout",
     "output_type": "stream",
     "text": [
      "Time taken: 0.0014\n",
      "Time taken: 0.0002\n"
     ]
    }
   ],
   "source": [
    "# Create a large DataFrame\n",
    "df = pd.DataFrame({\n",
    "    'key': range(1, 100000001),\n",
    "    'value': range(100000000)\n",
    "})\n",
    "\n",
    "start_time = time.time()\n",
    "# Fast lookup using the index\n",
    "result = df.iloc[500000]  # This is faster than using .iloc or searching without an index\n",
    "end_time = time.time()\n",
    "\n",
    "print(f\"Time taken: {end_time-start_time:.4f}\")\n",
    "\n",
    "start_time = time.time()\n",
    "# Fast lookup using the index\n",
    "result = df.loc[500000]  # This is faster than using .iloc or searching without an index\n",
    "end_time = time.time()\n",
    "\n",
    "print(f\"Time taken: {end_time-start_time:.4f}\")\n",
    "\n",
    "# print(result)"
   ]
  },
  {
   "cell_type": "markdown",
   "id": "360eb442",
   "metadata": {},
   "source": [
    "### Filter\n",
    "\n",
    "When merging or joining large DataFrames, it’s beneficial to filter them down to only the necessary rows beforehand. This reduces the size of the DataFrames involved in the operation, improving performance."
   ]
  },
  {
   "cell_type": "code",
   "execution_count": 13,
   "id": "3bc2bb36",
   "metadata": {},
   "outputs": [
    {
     "name": "stdout",
     "output_type": "stream",
     "text": [
      "  key  value1  value2\n",
      "0   B       2       5\n",
      "1   C       3       6\n",
      "2   D       4       7\n"
     ]
    }
   ],
   "source": [
    "df1 = pd.DataFrame({\n",
    "    'key': ['A', 'B', 'C', 'D'],\n",
    "    'value1': [1, 2, 3, 4]\n",
    "})\n",
    "\n",
    "df2 = pd.DataFrame({\n",
    "    'key': ['B', 'C', 'D', 'E'],\n",
    "    'value2': [5, 6, 7, 8]\n",
    "})\n",
    "\n",
    "# Filter DataFrames before merging\n",
    "df1_filtered = df1[df1['value1'] > 1]  # Keep only rows where value1 > 1\n",
    "df2_filtered = df2[df2['key'].isin(df1_filtered['key'])]  # Keep only matching keys\n",
    "\n",
    "# Perform the merge\n",
    "merged_df = pd.merge(df1_filtered, df2_filtered, on='key')\n",
    "print(merged_df)"
   ]
  },
  {
   "cell_type": "markdown",
   "id": "5dba75bc",
   "metadata": {},
   "source": [
    "### Avoid creating copy\n",
    "\n",
    "inplace parameter ensures the changes are incorporated in the same dataframe instead of creating a new one."
   ]
  },
  {
   "cell_type": "code",
   "execution_count": 30,
   "id": "495701b8",
   "metadata": {},
   "outputs": [
    {
     "data": {
      "text/html": [
       "<div>\n",
       "<style scoped>\n",
       "    .dataframe tbody tr th:only-of-type {\n",
       "        vertical-align: middle;\n",
       "    }\n",
       "\n",
       "    .dataframe tbody tr th {\n",
       "        vertical-align: top;\n",
       "    }\n",
       "\n",
       "    .dataframe thead th {\n",
       "        text-align: right;\n",
       "    }\n",
       "</style>\n",
       "<table border=\"1\" class=\"dataframe\">\n",
       "  <thead>\n",
       "    <tr style=\"text-align: right;\">\n",
       "      <th></th>\n",
       "      <th>A</th>\n",
       "    </tr>\n",
       "  </thead>\n",
       "  <tbody>\n",
       "    <tr>\n",
       "      <th>0</th>\n",
       "      <td>66</td>\n",
       "    </tr>\n",
       "    <tr>\n",
       "      <th>1</th>\n",
       "      <td>29</td>\n",
       "    </tr>\n",
       "    <tr>\n",
       "      <th>2</th>\n",
       "      <td>54</td>\n",
       "    </tr>\n",
       "    <tr>\n",
       "      <th>3</th>\n",
       "      <td>93</td>\n",
       "    </tr>\n",
       "    <tr>\n",
       "      <th>4</th>\n",
       "      <td>85</td>\n",
       "    </tr>\n",
       "  </tbody>\n",
       "</table>\n",
       "</div>"
      ],
      "text/plain": [
       "    A\n",
       "0  66\n",
       "1  29\n",
       "2  54\n",
       "3  93\n",
       "4  85"
      ]
     },
     "execution_count": 30,
     "metadata": {},
     "output_type": "execute_result"
    }
   ],
   "source": [
    "df = pd.DataFrame({\n",
    "    'A': np.random.randint(0, 100, size=100),\n",
    "    'B': np.random.randint(0, 100, size=100)\n",
    "})\n",
    "\n",
    "df.drop(columns=['B'], inplace=True)\n",
    "df.head()"
   ]
  }
 ],
 "metadata": {
  "kernelspec": {
   "display_name": "Python 3 (ipykernel)",
   "language": "python",
   "name": "python3"
  },
  "language_info": {
   "codemirror_mode": {
    "name": "ipython",
    "version": 3
   },
   "file_extension": ".py",
   "mimetype": "text/x-python",
   "name": "python",
   "nbconvert_exporter": "python",
   "pygments_lexer": "ipython3",
   "version": "3.9.7"
  }
 },
 "nbformat": 4,
 "nbformat_minor": 5
}
